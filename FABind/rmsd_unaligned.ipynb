{
 "cells": [
  {
   "cell_type": "code",
   "execution_count": 1,
   "metadata": {},
   "outputs": [],
   "source": [
    "import os\n",
    "import csv\n",
    "import numpy as np\n",
    "import pandas as pd\n",
    "from rdkit import Chem\n",
    "from rdkit import RDLogger\n",
    "from rdkit.Chem import AllChem\n",
    "from networkx.algorithms import isomorphism\n",
    "import networkx as nx\n",
    "\n",
    "lg = RDLogger.logger()\n",
    "lg.setLevel(RDLogger.CRITICAL)\n",
    "\n",
    "def read_sdf(file_path):\n",
    "    mol = Chem.SDMolSupplier(file_path)[0]\n",
    "    return mol\n",
    "\n",
    "def mol_to_graph(mol):\n",
    "    G = nx.Graph()\n",
    "    \n",
    "    for atom in mol.GetAtoms():\n",
    "        G.add_node(atom.GetIdx(), atom_type=atom.GetSymbol())\n",
    "    \n",
    "    for bond in mol.GetBonds():\n",
    "        G.add_edge(bond.GetBeginAtomIdx(), bond.GetEndAtomIdx())\n",
    "    \n",
    "    return G\n",
    "\n",
    "def calculate_rmsd(mol1, mol2, atom_map):\n",
    "    coords1 = mol1.GetConformer().GetPositions()\n",
    "    coords2 = mol2.GetConformer().GetPositions()\n",
    "    \n",
    "    mapped_coords1 = np.array([coords1[i] for i in atom_map.keys()])\n",
    "    mapped_coords2 = np.array([coords2[i] for i in atom_map.values()])\n",
    "    \n",
    "    diff = mapped_coords1 - mapped_coords2\n",
    "    return np.sqrt(np.mean(np.sum(diff**2, axis=1)))\n",
    "\n",
    "def calculate_rmsd_without_alignment(sdf_file1, sdf_file2):\n",
    "    mol1 = read_sdf(sdf_file1)\n",
    "    mol2 = read_sdf(sdf_file2)\n",
    "    \n",
    "    graph1 = mol_to_graph(mol1)\n",
    "    if mol2 is None:\n",
    "        return None\n",
    "    else:\n",
    "        graph2 = mol_to_graph(mol2)\n",
    "    \n",
    "    nm = isomorphism.GraphMatcher(graph1, graph2, \n",
    "                                  node_match=lambda n1, n2: n1['atom_type'] == n2['atom_type'])\n",
    "    \n",
    "    if nm.is_isomorphic():\n",
    "        atom_map = nm.mapping\n",
    "        rmsd = calculate_rmsd(mol1, mol2, atom_map)\n",
    "        return rmsd\n",
    "    else:\n",
    "        return None"
   ]
  },
  {
   "cell_type": "code",
   "execution_count": 2,
   "metadata": {},
   "outputs": [
    {
     "name": "stdout",
     "output_type": "stream",
     "text": [
      "Results have been written to unaligned_rmsd_results.csv\n"
     ]
    }
   ],
   "source": [
    "def process_sdfs(inference_dir,reference_dir,output_csv):\n",
    "    results = []\n",
    "    \n",
    "    for filename in os.listdir(inference_dir):\n",
    "        if filename.endswith(\".sdf\"):\n",
    "            prot = filename.split('.')[0]\n",
    "            pred_sdf = os.path.join(inference_dir, filename)\n",
    "            ref_sdf = os.path.join(reference_dir, prot, f\"{prot}_ligand.sdf\")\n",
    "            \n",
    "            if not os.path.exists(ref_sdf):\n",
    "                print(f\"Warning: Reference file not found for {prot}\")\n",
    "                results.append((prot, -1))\n",
    "                continue\n",
    "            \n",
    "            rmsd = calculate_rmsd_without_alignment(ref_sdf, pred_sdf)\n",
    "            if rmsd is None:\n",
    "                results.append((prot, -1))\n",
    "            else:\n",
    "                results.append((prot, rmsd))\n",
    "    \n",
    "    # Write results to CSV\n",
    "    with open(output_csv, 'w', newline='') as csvfile:\n",
    "        writer = csv.writer(csvfile)\n",
    "        writer.writerow(['pdb_id', 'rmsd'])\n",
    "        for prot, rmsd in results:\n",
    "            writer.writerow([prot, f\"{rmsd:.4f}\" if rmsd != -1 else \"-1\"])\n",
    "\n",
    "inference_dir = \"./posebusters_benchmark/docking_results\"\n",
    "reference_dir = \"/mnt/data/posebusters/posebusters_benchmark_set\"\n",
    "output_csv = \"unaligned_rmsd_results.csv\"\n",
    "\n",
    "process_sdfs(inference_dir, reference_dir, output_csv)\n",
    "print(f\"Results have been written to {output_csv}\")"
   ]
  },
  {
   "cell_type": "code",
   "execution_count": 3,
   "metadata": {},
   "outputs": [
    {
     "name": "stdout",
     "output_type": "stream",
     "text": [
      "RMSD < 2: 10.05%\n"
     ]
    }
   ],
   "source": [
    "file_path = './unaligned_rmsd_results.csv'\n",
    "data = pd.read_csv(file_path)\n",
    "\n",
    "# Calculate Success Rate\n",
    "valid_rmsd = data[data['rmsd'] != -1]\n",
    "rmsd_less_than_2 = valid_rmsd[valid_rmsd['rmsd'] < 2]\n",
    "rmsd_less_than_2_ratio = len(rmsd_less_than_2) / len(data)\n",
    "\n",
    "print(f\"RMSD < 2: {rmsd_less_than_2_ratio:.2%}\")"
   ]
  }
 ],
 "metadata": {
  "kernelspec": {
   "display_name": "torch",
   "language": "python",
   "name": "python3"
  },
  "language_info": {
   "codemirror_mode": {
    "name": "ipython",
    "version": 3
   },
   "file_extension": ".py",
   "mimetype": "text/x-python",
   "name": "python",
   "nbconvert_exporter": "python",
   "pygments_lexer": "ipython3",
   "version": "3.8.18"
  }
 },
 "nbformat": 4,
 "nbformat_minor": 2
}
