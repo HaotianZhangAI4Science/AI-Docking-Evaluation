{
 "cells": [
  {
   "cell_type": "code",
   "execution_count": 5,
   "metadata": {},
   "outputs": [],
   "source": [
    "import os\n",
    "import pandas as pd\n",
    "from rdkit import Chem\n",
    "from rdkit.Chem import AllChem\n",
    "from rdkit.Chem import PandasTools\n",
    "\n",
    "posebusters_root = f'/mnt/data/posebusters/posebusters_benchmark_set/'\n",
    "\n",
    "def sdf_to_smile(sdf):\n",
    "    mol = Chem.MolFromMolFile(sdf)\n",
    "    return Chem.MolToSmiles(mol)\n",
    "\n",
    "def update_protein_path(df, posebusters_root):\n",
    "    pdbids = os.listdir(posebusters_root)\n",
    "    for pdbidx in range(len(pdbids)):\n",
    "        new_path = os.path.join(posebusters_root, pdbids[pdbidx], f\"{pdbids[pdbidx]}_protein.pdb\")\n",
    "        # give the new value\n",
    "        df.iloc[pdbidx,0] = new_path\n",
    "    return df\n",
    "\n",
    "df = pd.read_csv('./origin.csv')\n",
    "\n",
    "# delete unnamed columns\n",
    "df = df.loc[:, ~df.columns.str.contains('^Unnamed')]\n",
    "\n",
    "# delete predicted_affinity and RMSD columns\n",
    "df = df.drop(['predicted_affinity', 'RMSD'], axis=1)\n",
    "\n",
    "# convert ligand from sdf to smile\n",
    "df['ligand'] = df['ligand'].apply(sdf_to_smile)\n",
    "\n",
    "# update protein path\n",
    "df = update_protein_path(df, posebusters_root)\n",
    "\n",
    "# change the name of 'protein' column to 'protein_path'\n",
    "df.rename(columns={'protein': 'protein_path'}, inplace=True)\n",
    "df.to_csv('input.csv', index=False)"
   ]
  }
 ],
 "metadata": {
  "kernelspec": {
   "display_name": "dynamicbind",
   "language": "python",
   "name": "python3"
  },
  "language_info": {
   "codemirror_mode": {
    "name": "ipython",
    "version": 3
   },
   "file_extension": ".py",
   "mimetype": "text/x-python",
   "name": "python",
   "nbconvert_exporter": "python",
   "pygments_lexer": "ipython3",
   "version": "3.10.12"
  }
 },
 "nbformat": 4,
 "nbformat_minor": 2
}
