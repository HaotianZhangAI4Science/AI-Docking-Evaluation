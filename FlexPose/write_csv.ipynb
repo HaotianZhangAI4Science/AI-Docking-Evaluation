{
 "cells": [
  {
   "cell_type": "code",
   "execution_count": 4,
   "metadata": {},
   "outputs": [
    {
     "name": "stdout",
     "output_type": "stream",
     "text": [
      "Written csv file: posebusters_benchmark_set.csv\n"
     ]
    }
   ],
   "source": [
    "import os\n",
    "import csv\n",
    "\n",
    "root_dir = '/mnt/data/posebusters/posebusters_benchmark_set' \n",
    "output_csv = 'posebusters_benchmark_set.csv'\n",
    "data = []\n",
    "\n",
    "for subdir in os.listdir(root_dir):\n",
    "    subdir_path = os.path.join(root_dir, subdir)\n",
    "    if os.path.isdir(subdir_path):\n",
    "        protein_file = os.path.join(subdir_path, f'{subdir}_protein.pdb')\n",
    "        ligand_file = os.path.join(subdir_path, f'{subdir}_ligand.mol2')\n",
    "        if os.path.exists(protein_file) and os.path.exists(ligand_file):\n",
    "            data.append([protein_file, ligand_file, ligand_file]) \n",
    "\n",
    "with open(output_csv, 'w', newline='') as csvfile:\n",
    "    csvwriter = csv.writer(csvfile)\n",
    "    csvwriter.writerow(['protein', 'ligand', 'ref_pocket_center'])  \n",
    "    csvwriter.writerows(data)  \n",
    "\n",
    "print(f'Written csv file: {output_csv}')"
   ]
  }
 ],
 "metadata": {
  "kernelspec": {
   "display_name": "simon",
   "language": "python",
   "name": "python3"
  },
  "language_info": {
   "codemirror_mode": {
    "name": "ipython",
    "version": 3
   },
   "file_extension": ".py",
   "mimetype": "text/x-python",
   "name": "python",
   "nbconvert_exporter": "python",
   "pygments_lexer": "ipython3",
   "version": "3.11.0"
  }
 },
 "nbformat": 4,
 "nbformat_minor": 2
}
