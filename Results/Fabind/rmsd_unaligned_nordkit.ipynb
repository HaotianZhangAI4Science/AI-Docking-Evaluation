{
 "cells": [
  {
   "cell_type": "code",
   "execution_count": 3,
   "metadata": {},
   "outputs": [],
   "source": [
    "# without rdkit\n",
    "import os\n",
    "import csv\n",
    "import pandas as pd\n",
    "import numpy as np\n",
    "import networkx as nx\n",
    "from networkx.algorithms import isomorphism\n",
    "\n",
    "def parse_sdf(file_path):\n",
    "    with open(file_path, 'r') as file:\n",
    "        lines = file.readlines()\n",
    "\n",
    "    atoms = []\n",
    "    bonds = []\n",
    "    atom_section = False\n",
    "    bond_section = False\n",
    "    atom_count = int(lines[3][:3].strip())\n",
    "    bond_count = int(lines[3][3:6].strip())\n",
    "\n",
    "    for line in lines[4:]:\n",
    "        if len(atoms) < atom_count:\n",
    "            atoms.append(line.split())\n",
    "        elif len(bonds) < bond_count:\n",
    "            bonds.append(line.split())\n",
    "\n",
    "    atom_coords = np.array([[float(atom[0]), float(atom[1]), float(atom[2])] for atom in atoms])\n",
    "    atom_types = [atom[3] for atom in atoms]\n",
    "    bond_pairs = [(int(bond[0]) - 1, int(bond[1]) - 1) for bond in bonds]\n",
    "    \n",
    "    return atom_coords, atom_types, bond_pairs\n",
    "\n",
    "def sdf_to_graph(atom_types, bond_pairs):\n",
    "    G = nx.Graph()\n",
    "    for i, atom_type in enumerate(atom_types):\n",
    "        G.add_node(i, atom_type=atom_type)\n",
    "    for bond in bond_pairs:\n",
    "        G.add_edge(*bond)\n",
    "    return G\n",
    "\n",
    "def calculate_rmsd(coords1, coords2, atom_map):\n",
    "    mapped_coords1 = np.array([coords1[i] for i in atom_map.keys()])\n",
    "    mapped_coords2 = np.array([coords2[i] for i in atom_map.values()])\n",
    "    diff = mapped_coords1 - mapped_coords2\n",
    "    return np.sqrt(np.mean(np.sum(diff**2, axis=1)))\n",
    "\n",
    "def calculate_rmsd_without_rdkit(sdf_file1, sdf_file2):\n",
    "    coords1, atom_types1, bonds1 = parse_sdf(sdf_file1)\n",
    "    coords2, atom_types2, bonds2 = parse_sdf(sdf_file2)\n",
    "    \n",
    "    graph1 = sdf_to_graph(atom_types1, bonds1)\n",
    "    graph2 = sdf_to_graph(atom_types2, bonds2)\n",
    "    \n",
    "    nm = isomorphism.GraphMatcher(graph1, graph2, node_match=lambda n1, n2: n1['atom_type'] == n2['atom_type'])\n",
    "    \n",
    "    if nm.is_isomorphic():\n",
    "        atom_map = nm.mapping\n",
    "        rmsd = calculate_rmsd(coords1, coords2, atom_map)\n",
    "        return rmsd\n",
    "    else:\n",
    "        print(\"The molecules are not isomorphic.\")\n",
    "        return None\n",
    "\n",
    "#prot = '7BMI_U4B'\n",
    "#sdf_file1 = f'/home/megagatlingpea/workdir/FABind/FABind_plus/posebusters_benchmark/docking_results/{prot}.sdf'\n",
    "#sdf_file2 = f'/mnt/data/posebusters/posebusters_benchmark_set/{prot}/{prot}_ligand.sdf'\n",
    "\n",
    "#rmsd = calculate_rmsd_without_rdkit(sdf_file1, sdf_file2)\n",
    "#if rmsd is not None:\n",
    "#    print(f\"RMSD without RDKit: {rmsd:.4f}\")\n",
    "#else:\n",
    "#    print(\"The molecules are not isomorphic.\")\n"
   ]
  },
  {
   "cell_type": "code",
   "execution_count": 4,
   "metadata": {},
   "outputs": [
    {
     "name": "stdout",
     "output_type": "stream",
     "text": [
      "Results have been written to unaligned_rmsd_results_nordkit.csv\n"
     ]
    }
   ],
   "source": [
    "def process_sdfs(inference_dir,reference_dir,output_csv):\n",
    "    results = []\n",
    "    \n",
    "    for filename in os.listdir(inference_dir):\n",
    "        if filename.endswith(\".sdf\"):\n",
    "            prot = filename.split('.')[0]\n",
    "            pred_sdf = os.path.join(inference_dir, filename)\n",
    "            ref_sdf = os.path.join(reference_dir, prot, f\"{prot}_ligand.sdf\")\n",
    "            \n",
    "            if not os.path.exists(ref_sdf):\n",
    "                print(f\"Warning: Reference file not found for {prot}\")\n",
    "                results.append((prot, -1))\n",
    "                continue\n",
    "            \n",
    "            rmsd = calculate_rmsd_without_rdkit(ref_sdf, pred_sdf)\n",
    "            if rmsd is None:\n",
    "                results.append((prot, -1))\n",
    "            else:\n",
    "                results.append((prot, rmsd))\n",
    "    \n",
    "    # Write results to CSV\n",
    "    with open(output_csv, 'w', newline='') as csvfile:\n",
    "        writer = csv.writer(csvfile)\n",
    "        writer.writerow(['pdb_id', 'rmsd'])\n",
    "        for prot, rmsd in results:\n",
    "            writer.writerow([prot, f\"{rmsd:.4f}\" if rmsd != -1 else \"-1\"])\n",
    "\n",
    "inference_dir = \"./posebusters_benchmark/docking_results\"\n",
    "reference_dir = \"/mnt/data/posebusters/posebusters_benchmark_set\"\n",
    "output_csv = \"unaligned_rmsd_results_nordkit.csv\"\n",
    "\n",
    "process_sdfs(inference_dir, reference_dir, output_csv)\n",
    "print(f\"Results have been written to {output_csv}\")"
   ]
  },
  {
   "cell_type": "code",
   "execution_count": 1,
   "metadata": {},
   "outputs": [
    {
     "name": "stdout",
     "output_type": "stream",
     "text": [
      "RMSD < 2: 11.21%\n"
     ]
    }
   ],
   "source": [
    "import pandas as pd\n",
    "file_path = './unaligned_rmsd_results_nordkit.csv'\n",
    "data = pd.read_csv(file_path)\n",
    "\n",
    "# Calculate Success Rate\n",
    "valid_rmsd = data[data['rmsd'] != -1]\n",
    "rmsd_less_than_2 = valid_rmsd[valid_rmsd['rmsd'] < 2]\n",
    "rmsd_less_than_2_ratio = len(rmsd_less_than_2) / len(data)\n",
    "\n",
    "print(f\"RMSD < 2: {rmsd_less_than_2_ratio:.2%}\")"
   ]
  }
 ],
 "metadata": {
  "kernelspec": {
   "display_name": "fabind",
   "language": "python",
   "name": "python3"
  },
  "language_info": {
   "codemirror_mode": {
    "name": "ipython",
    "version": 3
   },
   "file_extension": ".py",
   "mimetype": "text/x-python",
   "name": "python",
   "nbconvert_exporter": "python",
   "pygments_lexer": "ipython3",
   "version": "3.11.0"
  }
 },
 "nbformat": 4,
 "nbformat_minor": 2
}
