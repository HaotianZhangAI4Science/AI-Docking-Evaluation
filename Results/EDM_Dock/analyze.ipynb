{
 "cells": [
  {
   "cell_type": "code",
   "execution_count": 1,
   "metadata": {},
   "outputs": [
    {
     "data": {
      "text/plain": [
       "count    428.000000\n",
       "mean       4.663360\n",
       "std       15.417730\n",
       "min        0.388373\n",
       "25%        2.496317\n",
       "50%        3.666983\n",
       "75%        5.016524\n",
       "max      320.342216\n",
       "Name: rmsd, dtype: float64"
      ]
     },
     "execution_count": 1,
     "metadata": {},
     "output_type": "execute_result"
    }
   ],
   "source": [
    "import pandas as pd\n",
    "\n",
    "df = pd.read_csv('./results.csv')\n",
    "df['rmsd'].describe()"
   ]
  },
  {
   "cell_type": "code",
   "execution_count": 2,
   "metadata": {},
   "outputs": [
    {
     "name": "stdout",
     "output_type": "stream",
     "text": [
      "key       7N4W_P4V\n",
      "rmsd    320.342216\n",
      "Name: 368, dtype: object\n"
     ]
    }
   ],
   "source": [
    "max_rmsd = df['rmsd'].idxmax()\n",
    "print(df.loc[max_rmsd])"
   ]
  },
  {
   "cell_type": "code",
   "execution_count": 3,
   "metadata": {},
   "outputs": [
    {
     "name": "stdout",
     "output_type": "stream",
     "text": [
      "key     7SCW_GSP\n",
      "rmsd    0.388373\n",
      "Name: 35, dtype: object\n"
     ]
    }
   ],
   "source": [
    "min_rmsd = df['rmsd'].idxmin()\n",
    "print(df.loc[min_rmsd])"
   ]
  },
  {
   "cell_type": "code",
   "execution_count": 4,
   "metadata": {},
   "outputs": [
    {
     "name": "stdout",
     "output_type": "stream",
     "text": [
      "60\n",
      "14.02%\n"
     ]
    }
   ],
   "source": [
    "below_2 = df['rmsd'] < 2\n",
    "print(below_2.sum())\n",
    "print(str((below_2.sum()/len(df)*100).round(2))+'%')"
   ]
  }
 ],
 "metadata": {
  "kernelspec": {
   "display_name": "edm-dock",
   "language": "python",
   "name": "python3"
  },
  "language_info": {
   "codemirror_mode": {
    "name": "ipython",
    "version": 3
   },
   "file_extension": ".py",
   "mimetype": "text/x-python",
   "name": "python",
   "nbconvert_exporter": "python",
   "pygments_lexer": "ipython3",
   "version": "3.9.13"
  }
 },
 "nbformat": 4,
 "nbformat_minor": 2
}
